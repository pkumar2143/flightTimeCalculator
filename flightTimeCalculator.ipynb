{
 "cells": [
  {
   "cell_type": "markdown",
   "metadata": {},
   "source": [
    "### Flight Time Calculator\n",
    "Making a flight time calculator for large/international airports."
   ]
  },
  {
   "cell_type": "code",
   "execution_count": 1,
   "metadata": {},
   "outputs": [],
   "source": [
    "import numpy as np\n",
    "import pandas as pd\n",
    "from math import *\n",
    "import matplotlib.pyplot as plt"
   ]
  },
  {
   "cell_type": "markdown",
   "metadata": {},
   "source": [
    "Airport data from [OurAirports.com](https://ourairports.com/data/)."
   ]
  },
  {
   "cell_type": "code",
   "execution_count": 2,
   "metadata": {},
   "outputs": [
    {
     "data": {
      "text/html": [
       "<div>\n",
       "<style scoped>\n",
       "    .dataframe tbody tr th:only-of-type {\n",
       "        vertical-align: middle;\n",
       "    }\n",
       "\n",
       "    .dataframe tbody tr th {\n",
       "        vertical-align: top;\n",
       "    }\n",
       "\n",
       "    .dataframe thead th {\n",
       "        text-align: right;\n",
       "    }\n",
       "</style>\n",
       "<table border=\"1\" class=\"dataframe\">\n",
       "  <thead>\n",
       "    <tr style=\"text-align: right;\">\n",
       "      <th></th>\n",
       "      <th>id</th>\n",
       "      <th>ident</th>\n",
       "      <th>type</th>\n",
       "      <th>name</th>\n",
       "      <th>latitude_deg</th>\n",
       "      <th>longitude_deg</th>\n",
       "      <th>elevation_ft</th>\n",
       "      <th>continent</th>\n",
       "      <th>iso_country</th>\n",
       "      <th>iso_region</th>\n",
       "      <th>municipality</th>\n",
       "      <th>scheduled_service</th>\n",
       "      <th>gps_code</th>\n",
       "      <th>iata_code</th>\n",
       "      <th>local_code</th>\n",
       "      <th>home_link</th>\n",
       "      <th>wikipedia_link</th>\n",
       "      <th>keywords</th>\n",
       "    </tr>\n",
       "  </thead>\n",
       "  <tbody>\n",
       "    <tr>\n",
       "      <td>0</td>\n",
       "      <td>6523</td>\n",
       "      <td>00A</td>\n",
       "      <td>heliport</td>\n",
       "      <td>Total Rf Heliport</td>\n",
       "      <td>40.070801</td>\n",
       "      <td>-74.933601</td>\n",
       "      <td>11.0</td>\n",
       "      <td>NaN</td>\n",
       "      <td>US</td>\n",
       "      <td>US-PA</td>\n",
       "      <td>Bensalem</td>\n",
       "      <td>no</td>\n",
       "      <td>00A</td>\n",
       "      <td>NaN</td>\n",
       "      <td>00A</td>\n",
       "      <td>NaN</td>\n",
       "      <td>NaN</td>\n",
       "      <td>NaN</td>\n",
       "    </tr>\n",
       "    <tr>\n",
       "      <td>1</td>\n",
       "      <td>323361</td>\n",
       "      <td>00AA</td>\n",
       "      <td>small_airport</td>\n",
       "      <td>Aero B Ranch Airport</td>\n",
       "      <td>38.704022</td>\n",
       "      <td>-101.473911</td>\n",
       "      <td>3435.0</td>\n",
       "      <td>NaN</td>\n",
       "      <td>US</td>\n",
       "      <td>US-KS</td>\n",
       "      <td>Leoti</td>\n",
       "      <td>no</td>\n",
       "      <td>00AA</td>\n",
       "      <td>NaN</td>\n",
       "      <td>00AA</td>\n",
       "      <td>NaN</td>\n",
       "      <td>NaN</td>\n",
       "      <td>NaN</td>\n",
       "    </tr>\n",
       "  </tbody>\n",
       "</table>\n",
       "</div>"
      ],
      "text/plain": [
       "       id ident           type                  name  latitude_deg  \\\n",
       "0    6523   00A       heliport     Total Rf Heliport     40.070801   \n",
       "1  323361  00AA  small_airport  Aero B Ranch Airport     38.704022   \n",
       "\n",
       "   longitude_deg  elevation_ft continent iso_country iso_region municipality  \\\n",
       "0     -74.933601          11.0       NaN          US      US-PA     Bensalem   \n",
       "1    -101.473911        3435.0       NaN          US      US-KS        Leoti   \n",
       "\n",
       "  scheduled_service gps_code iata_code local_code home_link wikipedia_link  \\\n",
       "0                no      00A       NaN        00A       NaN            NaN   \n",
       "1                no     00AA       NaN       00AA       NaN            NaN   \n",
       "\n",
       "  keywords  \n",
       "0      NaN  \n",
       "1      NaN  "
      ]
     },
     "execution_count": 2,
     "metadata": {},
     "output_type": "execute_result"
    }
   ],
   "source": [
    "df = pd.read_csv('airports.csv')\n",
    "df.head(2)"
   ]
  },
  {
   "cell_type": "code",
   "execution_count": 3,
   "metadata": {},
   "outputs": [
    {
     "data": {
      "text/plain": [
       "(61979, 18)"
      ]
     },
     "execution_count": 3,
     "metadata": {},
     "output_type": "execute_result"
    }
   ],
   "source": [
    "df.shape"
   ]
  },
  {
   "cell_type": "code",
   "execution_count": 4,
   "metadata": {},
   "outputs": [
    {
     "data": {
      "text/plain": [
       "array(['heliport', 'small_airport', 'closed', 'seaplane_base',\n",
       "       'balloonport', 'medium_airport', 'large_airport'], dtype=object)"
      ]
     },
     "execution_count": 4,
     "metadata": {},
     "output_type": "execute_result"
    }
   ],
   "source": [
    "df.type.unique()"
   ]
  },
  {
   "cell_type": "code",
   "execution_count": 5,
   "metadata": {},
   "outputs": [],
   "source": [
    "noneed = ['heliport', 'small_airport', 'closed', 'seaplane_base','balloonport','medium_airport']\n",
    "for typ in noneed:\n",
    "    df.drop(df[df.type == typ].index,inplace = True)"
   ]
  },
  {
   "cell_type": "code",
   "execution_count": 6,
   "metadata": {},
   "outputs": [
    {
     "data": {
      "text/plain": [
       "(617, 18)"
      ]
     },
     "execution_count": 6,
     "metadata": {},
     "output_type": "execute_result"
    }
   ],
   "source": [
    "df.shape"
   ]
  },
  {
   "cell_type": "code",
   "execution_count": 7,
   "metadata": {},
   "outputs": [
    {
     "data": {
      "text/html": [
       "<div>\n",
       "<style scoped>\n",
       "    .dataframe tbody tr th:only-of-type {\n",
       "        vertical-align: middle;\n",
       "    }\n",
       "\n",
       "    .dataframe tbody tr th {\n",
       "        vertical-align: top;\n",
       "    }\n",
       "\n",
       "    .dataframe thead th {\n",
       "        text-align: right;\n",
       "    }\n",
       "</style>\n",
       "<table border=\"1\" class=\"dataframe\">\n",
       "  <thead>\n",
       "    <tr style=\"text-align: right;\">\n",
       "      <th></th>\n",
       "      <th>id</th>\n",
       "      <th>ident</th>\n",
       "      <th>type</th>\n",
       "      <th>name</th>\n",
       "      <th>latitude_deg</th>\n",
       "      <th>longitude_deg</th>\n",
       "      <th>elevation_ft</th>\n",
       "      <th>continent</th>\n",
       "      <th>iso_country</th>\n",
       "      <th>iso_region</th>\n",
       "      <th>municipality</th>\n",
       "      <th>scheduled_service</th>\n",
       "      <th>gps_code</th>\n",
       "      <th>iata_code</th>\n",
       "      <th>local_code</th>\n",
       "      <th>home_link</th>\n",
       "      <th>wikipedia_link</th>\n",
       "      <th>keywords</th>\n",
       "    </tr>\n",
       "  </thead>\n",
       "  <tbody>\n",
       "    <tr>\n",
       "      <td>29476</td>\n",
       "      <td>16091</td>\n",
       "      <td>KABQ</td>\n",
       "      <td>large_airport</td>\n",
       "      <td>Albuquerque International Sunport</td>\n",
       "      <td>35.040199</td>\n",
       "      <td>-106.609001</td>\n",
       "      <td>5355.0</td>\n",
       "      <td>NaN</td>\n",
       "      <td>US</td>\n",
       "      <td>US-NM</td>\n",
       "      <td>Albuquerque</td>\n",
       "      <td>yes</td>\n",
       "      <td>KABQ</td>\n",
       "      <td>ABQ</td>\n",
       "      <td>ABQ</td>\n",
       "      <td>http://www.abqsunport.com/</td>\n",
       "      <td>https://en.wikipedia.org/wiki/Albuquerque_Inte...</td>\n",
       "      <td>NaN</td>\n",
       "    </tr>\n",
       "    <tr>\n",
       "      <td>29495</td>\n",
       "      <td>3364</td>\n",
       "      <td>KADW</td>\n",
       "      <td>large_airport</td>\n",
       "      <td>Joint Base Andrews</td>\n",
       "      <td>38.810799</td>\n",
       "      <td>-76.866997</td>\n",
       "      <td>280.0</td>\n",
       "      <td>NaN</td>\n",
       "      <td>US</td>\n",
       "      <td>US-MD</td>\n",
       "      <td>Camp Springs</td>\n",
       "      <td>no</td>\n",
       "      <td>KADW</td>\n",
       "      <td>ADW</td>\n",
       "      <td>ADW</td>\n",
       "      <td>http://www.jba.af.mil/</td>\n",
       "      <td>https://en.wikipedia.org/wiki/Joint_Base_Andrews</td>\n",
       "      <td>Andrews Air Force Base</td>\n",
       "    </tr>\n",
       "  </tbody>\n",
       "</table>\n",
       "</div>"
      ],
      "text/plain": [
       "          id ident           type                               name  \\\n",
       "29476  16091  KABQ  large_airport  Albuquerque International Sunport   \n",
       "29495   3364  KADW  large_airport                 Joint Base Andrews   \n",
       "\n",
       "       latitude_deg  longitude_deg  elevation_ft continent iso_country  \\\n",
       "29476     35.040199    -106.609001        5355.0       NaN          US   \n",
       "29495     38.810799     -76.866997         280.0       NaN          US   \n",
       "\n",
       "      iso_region  municipality scheduled_service gps_code iata_code  \\\n",
       "29476      US-NM   Albuquerque               yes     KABQ       ABQ   \n",
       "29495      US-MD  Camp Springs                no     KADW       ADW   \n",
       "\n",
       "      local_code                   home_link  \\\n",
       "29476        ABQ  http://www.abqsunport.com/   \n",
       "29495        ADW      http://www.jba.af.mil/   \n",
       "\n",
       "                                          wikipedia_link  \\\n",
       "29476  https://en.wikipedia.org/wiki/Albuquerque_Inte...   \n",
       "29495   https://en.wikipedia.org/wiki/Joint_Base_Andrews   \n",
       "\n",
       "                     keywords  \n",
       "29476                     NaN  \n",
       "29495  Andrews Air Force Base  "
      ]
     },
     "execution_count": 7,
     "metadata": {},
     "output_type": "execute_result"
    }
   ],
   "source": [
    "df[df.iso_country == 'US'].head(2)"
   ]
  },
  {
   "cell_type": "code",
   "execution_count": 8,
   "metadata": {},
   "outputs": [
    {
     "data": {
      "text/html": [
       "<div>\n",
       "<style scoped>\n",
       "    .dataframe tbody tr th:only-of-type {\n",
       "        vertical-align: middle;\n",
       "    }\n",
       "\n",
       "    .dataframe tbody tr th {\n",
       "        vertical-align: top;\n",
       "    }\n",
       "\n",
       "    .dataframe thead th {\n",
       "        text-align: right;\n",
       "    }\n",
       "</style>\n",
       "<table border=\"1\" class=\"dataframe\">\n",
       "  <thead>\n",
       "    <tr style=\"text-align: right;\">\n",
       "      <th></th>\n",
       "      <th>id</th>\n",
       "      <th>ident</th>\n",
       "      <th>type</th>\n",
       "      <th>name</th>\n",
       "      <th>latitude_deg</th>\n",
       "      <th>longitude_deg</th>\n",
       "      <th>elevation_ft</th>\n",
       "      <th>continent</th>\n",
       "      <th>iso_country</th>\n",
       "      <th>iso_region</th>\n",
       "      <th>municipality</th>\n",
       "      <th>scheduled_service</th>\n",
       "      <th>gps_code</th>\n",
       "      <th>iata_code</th>\n",
       "      <th>local_code</th>\n",
       "      <th>home_link</th>\n",
       "      <th>wikipedia_link</th>\n",
       "      <th>keywords</th>\n",
       "    </tr>\n",
       "  </thead>\n",
       "  <tbody>\n",
       "    <tr>\n",
       "      <td>32052</td>\n",
       "      <td>3771</td>\n",
       "      <td>KPHL</td>\n",
       "      <td>large_airport</td>\n",
       "      <td>Philadelphia International Airport</td>\n",
       "      <td>39.871899</td>\n",
       "      <td>-75.241096</td>\n",
       "      <td>36.0</td>\n",
       "      <td>NaN</td>\n",
       "      <td>US</td>\n",
       "      <td>US-PA</td>\n",
       "      <td>Philadelphia</td>\n",
       "      <td>yes</td>\n",
       "      <td>KPHL</td>\n",
       "      <td>PHL</td>\n",
       "      <td>PHL</td>\n",
       "      <td>http://www.phl.org/</td>\n",
       "      <td>https://en.wikipedia.org/wiki/Philadelphia_Int...</td>\n",
       "      <td>NaN</td>\n",
       "    </tr>\n",
       "  </tbody>\n",
       "</table>\n",
       "</div>"
      ],
      "text/plain": [
       "         id ident           type                                name  \\\n",
       "32052  3771  KPHL  large_airport  Philadelphia International Airport   \n",
       "\n",
       "       latitude_deg  longitude_deg  elevation_ft continent iso_country  \\\n",
       "32052     39.871899     -75.241096          36.0       NaN          US   \n",
       "\n",
       "      iso_region  municipality scheduled_service gps_code iata_code  \\\n",
       "32052      US-PA  Philadelphia               yes     KPHL       PHL   \n",
       "\n",
       "      local_code            home_link  \\\n",
       "32052        PHL  http://www.phl.org/   \n",
       "\n",
       "                                          wikipedia_link keywords  \n",
       "32052  https://en.wikipedia.org/wiki/Philadelphia_Int...      NaN  "
      ]
     },
     "execution_count": 8,
     "metadata": {},
     "output_type": "execute_result"
    }
   ],
   "source": [
    "df[df.iata_code == 'PHL']"
   ]
  },
  {
   "cell_type": "markdown",
   "metadata": {},
   "source": [
    "Great-circle distance given by [Wikipedia: Great-circle distance](https://en.wikipedia.org/wiki/Great-circle_distance)."
   ]
  },
  {
   "cell_type": "code",
   "execution_count": 9,
   "metadata": {},
   "outputs": [],
   "source": [
    "def cosd(x):\n",
    "    pi = 3.1415926535\n",
    "    d2r = pi/180\n",
    "    return cos(d2r*x)\n",
    "\n",
    "def sind(x):\n",
    "    pi = 3.1415926535\n",
    "    d2r = pi/180\n",
    "    return sin(d2r*x)\n",
    "\n",
    "def geodist(x,y):\n",
    "    '''Input: x, y are 2-tuples (angular spherical coordinates); [Lat, Long]\n",
    "        Output: Distance between two points on the earth'''\n",
    "    lat1 = x[0]; lat2 = y[0]; long1 = x[1]; long2 = y[1];\n",
    "    long_diff = abs(long1 - long2)\n",
    "    \n",
    "    r_Earth = 3958.8 # radius of Earth in miles\n",
    "    cent_ang = acos(sind(lat1)*sind(lat2) + cosd(lat1)*cosd(lat2)*cosd(long_diff))\n",
    "    return r_Earth*cent_ang\n",
    "    "
   ]
  },
  {
   "cell_type": "code",
   "execution_count": 10,
   "metadata": {},
   "outputs": [],
   "source": [
    "def airportDist(x,y):\n",
    "    '''Function: '''\n",
    "    iata_codes = df.iata_code.unique()\n",
    "    if x not in iata_codes:\n",
    "        raise ValueError(x+' is not a valid IATA Code.')\n",
    "    \n",
    "    if y not in iata_codes:\n",
    "        return ValueError(y+' is not a valid IATA Code.')\n",
    "    \n",
    "    lat1 = float(df[df.iata_code == x].latitude_deg)\n",
    "    long1 = float(df[df.iata_code == x].longitude_deg)\n",
    "    lat2 = float(df[df.iata_code == y].latitude_deg)\n",
    "    long2 = float(df[df.iata_code == y].longitude_deg)\n",
    "    \n",
    "    loc1 = [lat1, long1]\n",
    "    loc2 = [lat2, long2]\n",
    "    \n",
    "    return geodist(loc1, loc2)\n",
    "    "
   ]
  },
  {
   "cell_type": "code",
   "execution_count": 11,
   "metadata": {},
   "outputs": [],
   "source": [
    "# create list of airport names\n",
    "airport_names = []\n",
    "for name in df.name:\n",
    "    airport_names.append(name)\n",
    "\n",
    "    \n",
    "def airportCodeLookup(airport):\n",
    "    for name in airport_names:\n",
    "        if airport in name:\n",
    "            return df[df.name == name]['iata_code'].values[0]    \n",
    "\n",
    "        \n",
    "def flightTime():\n",
    "    flightSpeeds = [460, 575]\n",
    "    depart = input('Enter departure airport code: ')\n",
    "    destin = input('Enter destination airport code: ')\n",
    "    \n",
    "    distance = airportDist(depart,destin)\n",
    "    times = []\n",
    "    for speed in flightSpeeds:\n",
    "        times.append(distance/speed)\n",
    "    \n",
    "    return 'Flight time between ' + str(times[1]) + ' and '+ str(times[0]) + ' hours.'\n",
    "    "
   ]
  },
  {
   "cell_type": "code",
   "execution_count": 12,
   "metadata": {},
   "outputs": [
    {
     "data": {
      "text/plain": [
       "'LAX'"
      ]
     },
     "execution_count": 12,
     "metadata": {},
     "output_type": "execute_result"
    }
   ],
   "source": [
    "airportCodeLookup('Los Angeles')"
   ]
  },
  {
   "cell_type": "code",
   "execution_count": 13,
   "metadata": {},
   "outputs": [
    {
     "name": "stdin",
     "output_type": "stream",
     "text": [
      "Enter departure airport code:  PHL\n",
      "Enter destination airport code:  DEL\n"
     ]
    },
    {
     "data": {
      "text/plain": [
       "'Flight time between 12.843985276584604 and 16.054981595730755 hours.'"
      ]
     },
     "execution_count": 13,
     "metadata": {},
     "output_type": "execute_result"
    }
   ],
   "source": [
    "flightTime()"
   ]
  },
  {
   "cell_type": "code",
   "execution_count": null,
   "metadata": {},
   "outputs": [],
   "source": []
  }
 ],
 "metadata": {
  "kernelspec": {
   "display_name": "Python 3",
   "language": "python",
   "name": "python3"
  },
  "language_info": {
   "codemirror_mode": {
    "name": "ipython",
    "version": 3
   },
   "file_extension": ".py",
   "mimetype": "text/x-python",
   "name": "python",
   "nbconvert_exporter": "python",
   "pygments_lexer": "ipython3",
   "version": "3.7.4"
  }
 },
 "nbformat": 4,
 "nbformat_minor": 4
}
